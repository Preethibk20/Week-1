{
 "cells": [
  {
   "cell_type": "code",
   "execution_count": 17,
   "id": "1e7b27f3-6909-4854-ad64-aa923b03ed45",
   "metadata": {},
   "outputs": [],
   "source": [
    "import pandas as pd\n",
    "import numpy as np\n",
    "import matplotlib.pyplot as plt\n",
    "import seaborn as sns\n",
    "import glob\n",
    "import os\n"
   ]
  },
  {
   "cell_type": "code",
   "execution_count": 18,
   "id": "48dc49c8",
   "metadata": {},
   "outputs": [
    {
     "name": "stdout",
     "output_type": "stream",
     "text": [
      "Working Directory: C:\\Users\\Preethi\\OneDrive\\Downloads\\engineering\\certificates\\edunet internship\\VED-master\n"
     ]
    }
   ],
   "source": [
    "print(\"Working Directory:\", os.getcwd())\n"
   ]
  },
  {
   "cell_type": "code",
   "execution_count": 19,
   "id": "795e944a",
   "metadata": {},
   "outputs": [
    {
     "name": "stdout",
     "output_type": "stream",
     "text": [
      "Files and Folders: ['Data', 'ev_range.ipynb', 'LICENSE', 'README.md']\n",
      "Part1 contents: ['VED_171101_week.csv', 'VED_171108_week.csv', 'VED_171115_week.csv', 'VED_171122_week.csv', 'VED_171129_week.csv', 'VED_171206_week.csv', 'VED_171213_week.csv', 'VED_171220_week.csv', 'VED_171227_week.csv', 'VED_180103_week.csv', 'VED_180110_week.csv', 'VED_180117_week.csv', 'VED_180124_week.csv', 'VED_180131_week.csv', 'VED_180207_week.csv', 'VED_180214_week.csv', 'VED_180221_week.csv', 'VED_180228_week.csv', 'VED_180307_week.csv', 'VED_180314_week.csv', 'VED_180321_week.csv', 'VED_180328_week.csv']\n",
      "Part2 contents: ['VED_180404_week.csv', 'VED_180411_week.csv', 'VED_180418_week.csv', 'VED_180425_week.csv', 'VED_180502_week.csv', 'VED_180509_week.csv', 'VED_180516_week.csv', 'VED_180523_week.csv', 'VED_180530_week.csv', 'VED_180606_week.csv', 'VED_180613_week.csv', 'VED_180620_week.csv', 'VED_180627_week.csv', 'VED_180704_week.csv', 'VED_180711_week.csv', 'VED_180718_week.csv', 'VED_180725_week.csv', 'VED_180801_week.csv', 'VED_180808_week.csv', 'VED_180815_week.csv', 'VED_180822_week.csv', 'VED_180829_week.csv', 'VED_180905_week.csv', 'VED_180912_week.csv', 'VED_180919_week.csv', 'VED_180926_week.csv', 'VED_181003_week.csv', 'VED_181010_week.csv', 'VED_181017_week.csv', 'VED_181024_week.csv', 'VED_181031_week.csv', 'VED_181107_week.csv']\n"
     ]
    }
   ],
   "source": [
    "print(\"Files and Folders:\", os.listdir())\n",
    "print(\"Part1 contents:\", os.listdir(\"Data/VED_DynamicData_Part1\"))\n",
    "print(\"Part2 contents:\", os.listdir(\"Data/VED_DynamicData_Part2\"))\n"
   ]
  },
  {
   "cell_type": "code",
   "execution_count": 20,
   "id": "3fdc09c6",
   "metadata": {},
   "outputs": [
    {
     "name": "stdout",
     "output_type": "stream",
     "text": [
      "Static EV Data preview:\n",
      "   VehId EngineType Vehicle Class Engine Configuration & Displacement  \\\n",
      "0      9       PHEV           Car                 4-GAS/ELECTRIC 1.4L   \n",
      "1     10         EV           Car                            ELECTRIC   \n",
      "2     11       PHEV           Car                 4-GAS/ELECTRIC 2.0L   \n",
      "3    371       PHEV           Car                 4-GAS/ELECTRIC 2.0L   \n",
      "4    379       PHEV           Car                 4-GAS/ELECTRIC 1.4L   \n",
      "\n",
      "  Transmission Drive Wheels  Generalized_Weight  \n",
      "0      NO DATA          FWD                4000  \n",
      "1      NO DATA          FWD                3500  \n",
      "2          CVT          FWD                4000  \n",
      "3          CVT          FWD                4000  \n",
      "4      NO DATA          FWD                4000  \n"
     ]
    }
   ],
   "source": [
    "static_ev = pd.read_excel(\"Data/VED_Static_Data_PHEV&EV.xlsx\")\n",
    "print(\"Static EV Data preview:\")\n",
    "print(static_ev.head())\n"
   ]
  },
  {
   "cell_type": "code",
   "execution_count": 21,
   "id": "e3b52af3",
   "metadata": {},
   "outputs": [
    {
     "name": "stdout",
     "output_type": "stream",
     "text": [
      "EV Vehicle IDs: [10, 455, 541]\n"
     ]
    }
   ],
   "source": [
    "ev_ids = static_ev[static_ev[\"EngineType\"] == \"EV\"][\"VehId\"].tolist()\n",
    "print(\"EV Vehicle IDs:\", ev_ids)\n"
   ]
  },
  {
   "cell_type": "code",
   "execution_count": 22,
   "id": "a4dbfbe9",
   "metadata": {},
   "outputs": [
    {
     "name": "stdout",
     "output_type": "stream",
     "text": [
      "Dynamic data files found: 54\n"
     ]
    }
   ],
   "source": [
    "data_files = glob.glob(\"Data/VED_DynamicData_Part1/*.csv\") + glob.glob(\"Data/VED_DynamicData_Part2/*.csv\")\n",
    "print(\"Dynamic data files found:\", len(data_files))\n"
   ]
  },
  {
   "cell_type": "code",
   "execution_count": 23,
   "id": "8c46a691",
   "metadata": {},
   "outputs": [
    {
     "name": "stdout",
     "output_type": "stream",
     "text": [
      "First Rows of EV Dynamic Data:\n",
      "     DayNum  VehId  Trip  Timestamp(ms)  Latitude[deg]  Longitude[deg]  \\\n",
      "0  1.719774     10  1558              0      42.277066      -83.763404   \n",
      "1  1.719774     10  1558            200      42.277066      -83.763404   \n",
      "2  1.719774     10  1558           1200      42.277066      -83.763404   \n",
      "3  1.719774     10  1558           1500      42.277066      -83.763404   \n",
      "4  1.719774     10  1558           2300      42.277066      -83.763404   \n",
      "\n",
      "   Vehicle Speed[km/h]  MAF[g/sec]  Engine RPM[RPM]  Absolute Load[%]  ...  \\\n",
      "0            53.590000         NaN              NaN               NaN  ...   \n",
      "1            51.980000         NaN              NaN               NaN  ...   \n",
      "2            50.369999         NaN              NaN               NaN  ...   \n",
      "3            50.369999         NaN              NaN               NaN  ...   \n",
      "4            49.799999         NaN              NaN               NaN  ...   \n",
      "\n",
      "   Air Conditioning Power[kW]  Air Conditioning Power[Watts]  \\\n",
      "0                         NaN                            0.0   \n",
      "1                         NaN                            0.0   \n",
      "2                         NaN                            0.0   \n",
      "3                         NaN                            0.0   \n",
      "4                         NaN                            0.0   \n",
      "\n",
      "   Heater Power[Watts]  HV Battery Current[A]  HV Battery SOC[%]  \\\n",
      "0               2250.0                  -21.5          96.341469   \n",
      "1               2250.0                  -21.5          96.341469   \n",
      "2               2250.0                  -21.5          96.341469   \n",
      "3               2250.0                   23.5          96.341469   \n",
      "4               2250.0                   23.5          96.341469   \n",
      "\n",
      "   HV Battery Voltage[V]  Short Term Fuel Trim Bank 1[%]  \\\n",
      "0                  386.0                             NaN   \n",
      "1                  386.0                             NaN   \n",
      "2                  386.0                             NaN   \n",
      "3                  390.5                             NaN   \n",
      "4                  390.5                             NaN   \n",
      "\n",
      "   Short Term Fuel Trim Bank 2[%]  Long Term Fuel Trim Bank 1[%]  \\\n",
      "0                             NaN                            NaN   \n",
      "1                             NaN                            NaN   \n",
      "2                             NaN                            NaN   \n",
      "3                             NaN                            NaN   \n",
      "4                             NaN                            NaN   \n",
      "\n",
      "   Long Term Fuel Trim Bank 2[%]  \n",
      "0                            NaN  \n",
      "1                            NaN  \n",
      "2                            NaN  \n",
      "3                            NaN  \n",
      "4                            NaN  \n",
      "\n",
      "[5 rows x 22 columns]\n",
      "Data Information:\n",
      "<class 'pandas.core.frame.DataFrame'>\n",
      "RangeIndex: 476308 entries, 0 to 476307\n",
      "Data columns (total 22 columns):\n",
      " #   Column                          Non-Null Count   Dtype  \n",
      "---  ------                          --------------   -----  \n",
      " 0   DayNum                          476308 non-null  float64\n",
      " 1   VehId                           476308 non-null  int64  \n",
      " 2   Trip                            476308 non-null  int64  \n",
      " 3   Timestamp(ms)                   476308 non-null  int64  \n",
      " 4   Latitude[deg]                   476308 non-null  float64\n",
      " 5   Longitude[deg]                  476308 non-null  float64\n",
      " 6   Vehicle Speed[km/h]             476308 non-null  float64\n",
      " 7   MAF[g/sec]                      0 non-null       float64\n",
      " 8   Engine RPM[RPM]                 0 non-null       float64\n",
      " 9   Absolute Load[%]                0 non-null       float64\n",
      " 10  OAT[DegC]                       476308 non-null  float64\n",
      " 11  Fuel Rate[L/hr]                 0 non-null       float64\n",
      " 12  Air Conditioning Power[kW]      0 non-null       float64\n",
      " 13  Air Conditioning Power[Watts]   476308 non-null  float64\n",
      " 14  Heater Power[Watts]             476308 non-null  float64\n",
      " 15  HV Battery Current[A]           476308 non-null  float64\n",
      " 16  HV Battery SOC[%]               476308 non-null  float64\n",
      " 17  HV Battery Voltage[V]           476308 non-null  float64\n",
      " 18  Short Term Fuel Trim Bank 1[%]  0 non-null       float64\n",
      " 19  Short Term Fuel Trim Bank 2[%]  0 non-null       float64\n",
      " 20  Long Term Fuel Trim Bank 1[%]   0 non-null       float64\n",
      " 21  Long Term Fuel Trim Bank 2[%]   0 non-null       float64\n",
      "dtypes: float64(19), int64(3)\n",
      "memory usage: 79.9 MB\n",
      "None\n"
     ]
    }
   ],
   "source": [
    "frames = []\n",
    "for file in data_files:\n",
    "    df = pd.read_csv(file)\n",
    "    ev_df = df[df['VehId'].isin(ev_ids)]\n",
    "    frames.append(ev_df)\n",
    "\n",
    "if frames:\n",
    "    ev_dynamic = pd.concat(frames, ignore_index=True)\n",
    "    print(\"First Rows of EV Dynamic Data:\")\n",
    "    print(ev_dynamic.head())\n",
    "    print(\"Data Information:\")\n",
    "    print(ev_dynamic.info())\n",
    "else:\n",
    "    print(\"No EV dynamic data loaded. Please check data and filtering logic.\")\n"
   ]
  },
  {
   "cell_type": "code",
   "execution_count": 24,
   "id": "09fc6d82",
   "metadata": {},
   "outputs": [
    {
     "name": "stdout",
     "output_type": "stream",
     "text": [
      "Index(['DayNum', 'VehId', 'Trip', 'Timestamp(ms)', 'Latitude[deg]',\n",
      "       'Longitude[deg]', 'Vehicle Speed[km/h]', 'MAF[g/sec]',\n",
      "       'Engine RPM[RPM]', 'Absolute Load[%]', 'OAT[DegC]', 'Fuel Rate[L/hr]',\n",
      "       'Air Conditioning Power[kW]', 'Air Conditioning Power[Watts]',\n",
      "       'Heater Power[Watts]', 'HV Battery Current[A]', 'HV Battery SOC[%]',\n",
      "       'HV Battery Voltage[V]', 'Short Term Fuel Trim Bank 1[%]',\n",
      "       'Short Term Fuel Trim Bank 2[%]', 'Long Term Fuel Trim Bank 1[%]',\n",
      "       'Long Term Fuel Trim Bank 2[%]'],\n",
      "      dtype='object')\n",
      "<class 'pandas.core.frame.DataFrame'>\n",
      "RangeIndex: 476308 entries, 0 to 476307\n",
      "Data columns (total 22 columns):\n",
      " #   Column                          Non-Null Count   Dtype  \n",
      "---  ------                          --------------   -----  \n",
      " 0   DayNum                          476308 non-null  float64\n",
      " 1   VehId                           476308 non-null  int64  \n",
      " 2   Trip                            476308 non-null  int64  \n",
      " 3   Timestamp(ms)                   476308 non-null  int64  \n",
      " 4   Latitude[deg]                   476308 non-null  float64\n",
      " 5   Longitude[deg]                  476308 non-null  float64\n",
      " 6   Vehicle Speed[km/h]             476308 non-null  float64\n",
      " 7   MAF[g/sec]                      0 non-null       float64\n",
      " 8   Engine RPM[RPM]                 0 non-null       float64\n",
      " 9   Absolute Load[%]                0 non-null       float64\n",
      " 10  OAT[DegC]                       476308 non-null  float64\n",
      " 11  Fuel Rate[L/hr]                 0 non-null       float64\n",
      " 12  Air Conditioning Power[kW]      0 non-null       float64\n",
      " 13  Air Conditioning Power[Watts]   476308 non-null  float64\n",
      " 14  Heater Power[Watts]             476308 non-null  float64\n",
      " 15  HV Battery Current[A]           476308 non-null  float64\n",
      " 16  HV Battery SOC[%]               476308 non-null  float64\n",
      " 17  HV Battery Voltage[V]           476308 non-null  float64\n",
      " 18  Short Term Fuel Trim Bank 1[%]  0 non-null       float64\n",
      " 19  Short Term Fuel Trim Bank 2[%]  0 non-null       float64\n",
      " 20  Long Term Fuel Trim Bank 1[%]   0 non-null       float64\n",
      " 21  Long Term Fuel Trim Bank 2[%]   0 non-null       float64\n",
      "dtypes: float64(19), int64(3)\n",
      "memory usage: 79.9 MB\n",
      "None\n",
      "              DayNum          VehId           Trip  Timestamp(ms)  \\\n",
      "count  476308.000000  476308.000000  476308.000000   4.763080e+05   \n",
      "mean      194.012741     299.680663    1827.640858   4.826725e+05   \n",
      "std       103.956671     213.293794     680.307807   5.391026e+05   \n",
      "min         1.719774      10.000000     554.000000   0.000000e+00   \n",
      "25%       107.925431      10.000000    1310.000000   1.322000e+05   \n",
      "50%       194.499834     455.000000    1831.000000   3.162000e+05   \n",
      "75%       285.891646     455.000000    2287.000000   6.210000e+05   \n",
      "max       374.499878     541.000000    3271.000000   4.723200e+06   \n",
      "\n",
      "       Latitude[deg]  Longitude[deg]  Vehicle Speed[km/h]  MAF[g/sec]  \\\n",
      "count  476308.000000   476308.000000        476308.000000         0.0   \n",
      "mean       42.273923      -83.732503            38.639490         NaN   \n",
      "std         0.019793        0.024966            24.544941         NaN   \n",
      "min        42.220368      -83.802211             0.000000         NaN   \n",
      "25%        42.259866      -83.745373            19.510000         NaN   \n",
      "50%        42.277309      -83.736049            40.399998         NaN   \n",
      "75%        42.287396      -83.717609            57.039997         NaN   \n",
      "max        42.324307      -83.674236           132.129990         NaN   \n",
      "\n",
      "       Engine RPM[RPM]  Absolute Load[%]  ...  Air Conditioning Power[kW]  \\\n",
      "count              0.0               0.0  ...                         0.0   \n",
      "mean               NaN               NaN  ...                         NaN   \n",
      "std                NaN               NaN  ...                         NaN   \n",
      "min                NaN               NaN  ...                         NaN   \n",
      "25%                NaN               NaN  ...                         NaN   \n",
      "50%                NaN               NaN  ...                         NaN   \n",
      "75%                NaN               NaN  ...                         NaN   \n",
      "max                NaN               NaN  ...                         NaN   \n",
      "\n",
      "       Air Conditioning Power[Watts]  Heater Power[Watts]  \\\n",
      "count                  476308.000000        476308.000000   \n",
      "mean                      365.193110           357.242583   \n",
      "std                       367.617313           802.359120   \n",
      "min                         0.000000             0.000000   \n",
      "25%                         0.000000             0.000000   \n",
      "50%                       300.000000             0.000000   \n",
      "75%                       550.000000           250.000000   \n",
      "max                      3100.000000          4250.000000   \n",
      "\n",
      "       HV Battery Current[A]  HV Battery SOC[%]  HV Battery Voltage[V]  \\\n",
      "count          476308.000000      476308.000000          476308.000000   \n",
      "mean              -15.349660          75.319123             379.638139   \n",
      "std                29.979822          19.933107               8.094360   \n",
      "min              -290.500000           9.634146             322.000000   \n",
      "25%               -34.000000          60.975613             375.000000   \n",
      "50%               -11.500000          77.560974             380.500000   \n",
      "75%                 1.500000          94.024391             385.000000   \n",
      "max               118.500000         100.000000             395.500000   \n",
      "\n",
      "       Short Term Fuel Trim Bank 1[%]  Short Term Fuel Trim Bank 2[%]  \\\n",
      "count                             0.0                             0.0   \n",
      "mean                              NaN                             NaN   \n",
      "std                               NaN                             NaN   \n",
      "min                               NaN                             NaN   \n",
      "25%                               NaN                             NaN   \n",
      "50%                               NaN                             NaN   \n",
      "75%                               NaN                             NaN   \n",
      "max                               NaN                             NaN   \n",
      "\n",
      "       Long Term Fuel Trim Bank 1[%]  Long Term Fuel Trim Bank 2[%]  \n",
      "count                            0.0                            0.0  \n",
      "mean                             NaN                            NaN  \n",
      "std                              NaN                            NaN  \n",
      "min                              NaN                            NaN  \n",
      "25%                              NaN                            NaN  \n",
      "50%                              NaN                            NaN  \n",
      "75%                              NaN                            NaN  \n",
      "max                              NaN                            NaN  \n",
      "\n",
      "[8 rows x 22 columns]\n",
      "DayNum                                 0\n",
      "VehId                                  0\n",
      "Trip                                   0\n",
      "Timestamp(ms)                          0\n",
      "Latitude[deg]                          0\n",
      "Longitude[deg]                         0\n",
      "Vehicle Speed[km/h]                    0\n",
      "MAF[g/sec]                        476308\n",
      "Engine RPM[RPM]                   476308\n",
      "Absolute Load[%]                  476308\n",
      "OAT[DegC]                              0\n",
      "Fuel Rate[L/hr]                   476308\n",
      "Air Conditioning Power[kW]        476308\n",
      "Air Conditioning Power[Watts]          0\n",
      "Heater Power[Watts]                    0\n",
      "HV Battery Current[A]                  0\n",
      "HV Battery SOC[%]                      0\n",
      "HV Battery Voltage[V]                  0\n",
      "Short Term Fuel Trim Bank 1[%]    476308\n",
      "Short Term Fuel Trim Bank 2[%]    476308\n",
      "Long Term Fuel Trim Bank 1[%]     476308\n",
      "Long Term Fuel Trim Bank 2[%]     476308\n",
      "dtype: int64\n"
     ]
    }
   ],
   "source": [
    "# Show columns and types\n",
    "print(ev_dynamic.columns)\n",
    "print(ev_dynamic.info())\n",
    "\n",
    "# Basic statistical summary\n",
    "print(ev_dynamic.describe())\n",
    "\n",
    "# Count missing values per column\n",
    "print(ev_dynamic.isnull().sum())\n"
   ]
  },
  {
   "cell_type": "code",
   "execution_count": 25,
   "id": "9611e798",
   "metadata": {},
   "outputs": [
    {
     "data": {
      "image/png": "[encoded data removed]",
      "text/plain": [
       "<Figure size 640x480 with 1 Axes>"
      ]
     },
     "metadata": {},
     "output_type": "display_data"
    },
    {
     "data": {
      "image/png": "[encoded data removed]",
      "text/plain": [
       "<Figure size 640x480 with 1 Axes>"
      ]
     },
     "metadata": {},
     "output_type": "display_data"
    }
   ],
   "source": [
    "# Distribution of Battery SOC\n",
    "sns.histplot(ev_dynamic[\"HV Battery SOC[%]\"].dropna(), bins=50)\n",
    "plt.title(\"Distribution of HV Battery SOC (%)\")\n",
    "plt.show()\n",
    "\n",
    "# Distribution of Vehicle Speed\n",
    "sns.histplot(ev_dynamic[\"Vehicle Speed[km/h]\"].dropna(), bins=50)\n",
    "plt.title(\"Distribution of Vehicle Speed (km/h)\")\n",
    "plt.show()\n"
   ]
  },
  {
   "cell_type": "code",
   "execution_count": 27,
   "id": "48a2bb3c",
   "metadata": {},
   "outputs": [
    {
     "name": "stdout",
     "output_type": "stream",
     "text": [
      "Index(['DayNum', 'VehId', 'Trip', 'Timestamp(ms)', 'Latitude[deg]',\n",
      "       'Longitude[deg]', 'Vehicle Speed[km/h]', 'MAF[g/sec]',\n",
      "       'Engine RPM[RPM]', 'Absolute Load[%]', 'OAT[DegC]', 'Fuel Rate[L/hr]',\n",
      "       'Air Conditioning Power[kW]', 'Air Conditioning Power[Watts]',\n",
      "       'Heater Power[Watts]', 'HV Battery Current[A]', 'HV Battery SOC[%]',\n",
      "       'HV Battery Voltage[V]', 'Short Term Fuel Trim Bank 1[%]',\n",
      "       'Short Term Fuel Trim Bank 2[%]', 'Long Term Fuel Trim Bank 1[%]',\n",
      "       'Long Term Fuel Trim Bank 2[%]'],\n",
      "      dtype='object')\n"
     ]
    }
   ],
   "source": [
    "print(ev_dynamic.columns)\n"
   ]
  },
  {
   "cell_type": "code",
   "execution_count": 28,
   "id": "3a33c5e5",
   "metadata": {},
   "outputs": [
    {
     "name": "stdout",
     "output_type": "stream",
     "text": [
      "   VehId  Trip  HV Battery SOC[%]_first  HV Battery SOC[%]_last  \\\n",
      "0     10  1558                96.341469               95.853661   \n",
      "1     10  1561                71.707321               66.463417   \n",
      "2     10  1567                71.097565               67.560982   \n",
      "3     10  1568                64.634148               63.658539   \n",
      "4     10  1572                48.780487               46.585369   \n",
      "\n",
      "   Vehicle Speed[km/h]_mean  OAT[DegC]_mean  SOC_drop  Avg_Speed   Avg_Temp  \n",
      "0                 35.550077        5.000000  0.487808  35.550077   5.000000  \n",
      "1                 22.925093        4.753745  5.243904  22.925093   4.753745  \n",
      "2                 19.378746        9.322888  3.536583  19.378746   9.322888  \n",
      "3                 26.365563        9.605634  0.975609  26.365563   9.605634  \n",
      "4                 24.035848       14.164062  2.195118  24.035848  14.164062  \n"
     ]
    }
   ],
   "source": [
    "trip_group = ev_dynamic.groupby([\"VehId\", \"Trip\"])\n",
    "trip_summary = trip_group.agg({\n",
    "    \"HV Battery SOC[%]\": [\"first\",\"last\"],\n",
    "    \"Vehicle Speed[km/h]\": \"mean\",\n",
    "    \"OAT[DegC]\": \"mean\"\n",
    "})\n",
    "trip_summary.columns = ['_'.join(col) for col in trip_summary.columns]\n",
    "trip_summary = trip_summary.reset_index()\n",
    "\n",
    "# Calculate SOC Drop, Average Speed/Temp\n",
    "trip_summary[\"SOC_drop\"] = trip_summary[\"HV Battery SOC[%]_first\"] - trip_summary[\"HV Battery SOC[%]_last\"]\n",
    "trip_summary[\"Avg_Speed\"] = trip_summary[\"Vehicle Speed[km/h]_mean\"]\n",
    "trip_summary[\"Avg_Temp\"] = trip_summary[\"OAT[DegC]_mean\"]\n",
    "print(trip_summary.head())\n"
   ]
  },
  {
   "cell_type": "code",
   "execution_count": 29,
   "id": "3e634472",
   "metadata": {},
   "outputs": [
    {
     "name": "stdout",
     "output_type": "stream",
     "text": [
      "MSE: 15.809674269753605\n",
      "R2 Score: 0.03301407508142784\n"
     ]
    }
   ],
   "source": [
    "from sklearn.model_selection import train_test_split\n",
    "from sklearn.linear_model import LinearRegression\n",
    "from sklearn.metrics import mean_squared_error, r2_score\n",
    "\n",
    "features = [\"Avg_Speed\", \"Avg_Temp\"]\n",
    "target = \"SOC_drop\"\n",
    "\n",
    "X = trip_summary[features]\n",
    "y = trip_summary[target]\n",
    "\n",
    "X_train, X_test, y_train, y_test = train_test_split(X, y, test_size=0.2, random_state=42)\n",
    "\n",
    "model = LinearRegression()\n",
    "model.fit(X_train, y_train)\n",
    "y_pred = model.predict(X_test)\n",
    "\n",
    "print(\"MSE:\", mean_squared_error(y_test, y_pred))\n",
    "print(\"R2 Score:\", r2_score(y_test, y_pred))\n"
   ]
  },
  {
   "cell_type": "code",
   "execution_count": 30,
   "id": "bbc77339",
   "metadata": {},
   "outputs": [
    {
     "data": {
      "image/png": "[encoded data removed]",
      "text/plain": [
       "<Figure size 640x480 with 1 Axes>"
      ]
     },
     "metadata": {},
     "output_type": "display_data"
    }
   ],
   "source": [
    "plt.scatter(y_test, y_pred)\n",
    "plt.xlabel(\"Actual SOC Drop\")\n",
    "plt.ylabel(\"Predicted SOC Drop\")\n",
    "plt.title(\"Actual vs Predicted SOC Drop\")\n",
    "plt.show()\n"
   ]
  }
 ],
 "metadata": {
  "kernelspec": {
   "display_name": "Python 3 (ipykernel)",
   "language": "python",
   "name": "python3"
  },
  "language_info": {
   "codemirror_mode": {
    "name": "ipython",
    "version": 3
   },
   "file_extension": ".py",
   "mimetype": "text/x-python",
   "name": "python",
   "nbconvert_exporter": "python",
   "pygments_lexer": "ipython3",
   "version": "3.13.3"
  }
 },
 "nbformat": 4,
 "nbformat_minor": 5
}
